{
  "cells": [
    {
      "cell_type": "markdown",
      "metadata": {
        "id": "TdAuIZnu_edm"
      },
      "source": [
        "### 01 - Teste de gravidez\n",
        "Escreva uma célula com controle de fluxos que tem como premissa a existência das seguintes variáveis:\n",
        "\n",
        "- ```sexo``` como ```str``` indicando os valores '**M**' para masculino e '**F**' para feminino  \n",
        "- ```beta_hcg``` que indica a quantidade do beta-HCG no sangue em mUI/mL.\n",
        "\n",
        "A sua tarefa é escrever um código que imprima como resultado \"indivíduo do sexo masculino\" quando sexo = 'M', caso sexo = 'F', se o valor de beta-HCG for maior que 5, retorne \"Positivo\" indicando que a paciente está grávida, e retorne \"Negativo\" caso contrário.\n",
        "\n",
        "Não mexa nos valores da variável ```sexo``` nem em ```beta_hcg```, e escreva um código que funcione para quaisquer valores possíveis de ambos: ```sexo``` = '**M**' ou '**F**' e ```beta_hcg``` assumindo valores inteiros positivos."
      ]
    },
    {
      "cell_type": "markdown",
      "source": [
        "\"*Não compreendi bem o enunciando, sendo assim pensei em fazer um campo onde a pessoa colocar o beta-HCG e o sistema retorna uma resposta. Sei que o exercício é conceitual, daí pensei nisso.*\""
      ],
      "metadata": {
        "id": "zXPKBELpGH9z"
      }
    },
    {
      "cell_type": "code",
      "source": [
        "x = int(input ('Por favor, digite o quantidade do beta_hcg '))\n",
        "\n",
        "if x ==0:\n",
        "  print('Olá você não está grávida')\n",
        "elif x >= 1 and x <= 4:\n",
        "  print('Parabéns! Você está esperando um menino')\n",
        "\n",
        "elif x >=5:\n",
        "  print('Parabéns! Você está esperando uma menina')"
      ],
      "metadata": {
        "colab": {
          "base_uri": "https://localhost:8080/"
        },
        "id": "RqLqkMUSCM6f",
        "outputId": "ed4876c4-d0cc-41ce-c2a1-701feae299e4"
      },
      "execution_count": 25,
      "outputs": [
        {
          "output_type": "stream",
          "name": "stdout",
          "text": [
            "Por favor, digite o quantidade do beta_hcg 0\n",
            "Olá você não está grávida\n"
          ]
        }
      ]
    },
    {
      "cell_type": "markdown",
      "metadata": {
        "id": "sDeK2vV4_edx"
      },
      "source": [
        "### 02 - Renomeando variáveis\n",
        "\n",
        "Vamos ver adiante que uma forma de renomear variáveis de um conjunto de dados é através de dicionários - o dicionário deve conter como chave o nome original, associando a cada chave um único valor (tipo *str*) que contenha o nome novo.\n",
        "\n",
        "A sua tarefa é escrever um dicionário que possa ser utilizado para traduzir as variáveis ```name``` (nome), ```age``` (idade) e ```income``` (renda). Ou seja, esse dicionário deve relacionar as chaves *name, age* e *income* às suas respectivas traduções."
      ]
    },
    {
      "cell_type": "markdown",
      "source": [
        "\"*Como no dicionário colocamos uma key e um valor, entendo que preciso preecher o valor e depois renomear as keys*.\""
      ],
      "metadata": {
        "id": "6wP18F7TTp1m"
      }
    },
    {
      "cell_type": "code",
      "source": [
        "dados_cadastrais = {'nome':'Peterson', 'idade':'34', 'renda':'1'}\n",
        "print(dados_cadastrais)\n",
        "\n",
        "dados_cadastrais.keys()\n",
        "\n",
        "dados_cadastrais['name'] = dados_cadastrais.pop('nome')\n",
        "dados_cadastrais['age'] = dados_cadastrais.pop('idade')\n",
        "dados_cadastrais['income'] = dados_cadastrais.pop('renda')\n",
        "print(dados_cadastrais)"
      ],
      "metadata": {
        "colab": {
          "base_uri": "https://localhost:8080/"
        },
        "id": "_XSH8LMFH31I",
        "outputId": "27c77bf9-c26a-4f53-c438-1d1950492862"
      },
      "execution_count": 61,
      "outputs": [
        {
          "output_type": "stream",
          "name": "stdout",
          "text": [
            "{'nome': 'Peterson', 'idade': '34', 'renda': '1'}\n",
            "{'name': 'Peterson', 'age': '34', 'income': '1'}\n"
          ]
        }
      ]
    },
    {
      "cell_type": "markdown",
      "metadata": {
        "id": "I5mzKuu0_ed0"
      },
      "source": [
        "### 03 - É divisível?\n",
        "A sua tarefa é escrever um código que indique se um número ```N``` é divisível por um número P. Escreva um programa que faça essa verificação para quaisquer combinações de ```N``` e ```M``` e devolva uma mensagem indicativa no output."
      ]
    },
    {
      "cell_type": "code",
      "execution_count": 77,
      "metadata": {
        "colab": {
          "base_uri": "https://localhost:8080/"
        },
        "id": "nmT0jUE0_ed0",
        "outputId": "c26f8d71-810f-49e7-aecf-8182e3373f78"
      },
      "outputs": [
        {
          "output_type": "stream",
          "name": "stdout",
          "text": [
            "49\n",
            "35\n",
            "Por favor, digite o valor P para vermos se é divisivel por P 3\n",
            "O valor P não digitado é divisivel por N - M\n"
          ]
        }
      ],
      "source": [
        "N = 42\n",
        "M = 7\n",
        "\n",
        "#Seu código\n",
        "combinacao_1 = N + M\n",
        "print(combinacao_1)\n",
        "\n",
        "combinacao_2 = N - M\n",
        "print(combinacao_2)\n",
        "\n",
        "p = int(input ('Por favor, digite o valor P para vermos se é divisivel por P '))\n",
        "\n",
        "if (combinacao_1 % p) == 0:\n",
        "  print('O valor P digitado é divisivel por N + M')\n",
        "\n",
        "else:\n",
        "  print('O valor P não digitado é divisivel por N - M')\n"
      ]
    },
    {
      "cell_type": "markdown",
      "metadata": {
        "id": "oXcCneFW_ed2"
      },
      "source": [
        "### 04 - Números primos\n",
        "> Um número **N** é primo se e somente se é divisível por 1, -1, por **N** e por -**N**.  \n",
        "\n",
        "Escreva um script que verifica se ```N``` é um número primo, verificando se ```N``` é divisível por todos os números de ```1``` a ```N-1```. Você vai precisar usar alguma ferramenta de *loop* que você aprendeu para isto. No final, devolva uma mensagem no output indicando se o número é primo ou não."
      ]
    },
    {
      "cell_type": "code",
      "execution_count": 94,
      "metadata": {
        "colab": {
          "base_uri": "https://localhost:8080/"
        },
        "id": "kjgLVhzg_ed3",
        "outputId": "cc376be3-0ff7-4ac9-e07e-6aeb7137ee9d"
      },
      "outputs": [
        {
          "output_type": "stream",
          "name": "stdout",
          "text": [
            "47 é um número primo\n"
          ]
        }
      ],
      "source": [
        "n = 47\n",
        "\n",
        "# seu código abaixo\n",
        "\n",
        "if n > 1:\n",
        "  for i in range(2, n):\n",
        "\n",
        "    if (n % i) == 0:\n",
        "            print(n, \"não é um número primo\")\n",
        "            break\n",
        "\n",
        "    else:\n",
        "        print(n, \"é um número primo\")\n",
        "        break\n",
        "else:\n",
        "    print(n, \"não é um número primo\")"
      ]
    },
    {
      "cell_type": "markdown",
      "metadata": {
        "id": "KCb3vCZA_ed4"
      },
      "source": [
        "### 05 - Desafio\n",
        "O algorítmo do exercício anterior não é o mais eficiente. O que você pode fazer para deixá-lo mais eficiente? Ou seja, executar menos comparações, portanto consumir menos tempo.\n",
        "1. Será que precisamos correr o loop até o final sempre?\n",
        "2. Será que precisamos mesmo verificar **todos** os números?\n",
        "3. Será que precisamos ir até N-1?\n",
        "\n",
        "Essas perguntas levam ao tipo de pensamento voltado a deixar um algoritmo mais eficiente. Veja se você consegue melhorar o seu."
      ]
    },
    {
      "cell_type": "markdown",
      "source": [
        "'*Na verdade, já tinha feito o código mais eficiente que pude, porque não entendi esse N-1, levei em conta que o número primo é divisivel por 1, por ele mesmo e só.*'"
      ],
      "metadata": {
        "id": "6phY_AJxcFcL"
      }
    },
    {
      "cell_type": "code",
      "execution_count": 97,
      "metadata": {
        "colab": {
          "base_uri": "https://localhost:8080/"
        },
        "id": "kLVhGTWF_ed5",
        "outputId": "db13a466-79cb-468c-91ef-2689b583068f"
      },
      "outputs": [
        {
          "output_type": "stream",
          "name": "stdout",
          "text": [
            "98 não é um número primo\n"
          ]
        }
      ],
      "source": [
        "N = 98\n",
        "\n",
        "# seu código aqui\n",
        "\n",
        "if n > 1:\n",
        "  for i in range(2, N):\n",
        "\n",
        "    if (N % i) == 0:\n",
        "            print(N, \"não é um número primo\")\n",
        "            break\n",
        "\n",
        "    else:\n",
        "        print(N, \"é um número primo\")\n",
        "        break\n",
        "else:\n",
        "    print(N, \"não é um número primo\")"
      ]
    },
    {
      "cell_type": "markdown",
      "metadata": {
        "id": "G75hRLqN_ed6"
      },
      "source": [
        "### 06 - Peso ideal 1\n",
        "O IMC (índice de massa corpórea) é um indicador de saúde mais bem aceito que o peso. Ele é calculado como:\n",
        "\n",
        "$$ IMC = \\dfrac{peso}{altura^2}$$\n",
        "\n",
        "Segundo a OMS, valores *normais* são entre 18.5 e 24.9.\n",
        "\n",
        "Sua tarefa é encontrar o ponto médio dessa faixa."
      ]
    },
    {
      "cell_type": "code",
      "execution_count": 178,
      "metadata": {
        "colab": {
          "base_uri": "https://localhost:8080/"
        },
        "id": "9jYsXi36_ed7",
        "outputId": "9de21e11-0993-4c0a-8662-0b68183b789b"
      },
      "outputs": [
        {
          "output_type": "stream",
          "name": "stdout",
          "text": [
            "21.7\n"
          ]
        }
      ],
      "source": [
        "imc_min = 18.5\n",
        "imc_max = 24.9\n",
        "\n",
        "imc_ideal = imc_min+imc_max\n",
        "imc_ideal = imc_ideal/2\n",
        "\n",
        "print(imc_ideal)"
      ]
    },
    {
      "cell_type": "markdown",
      "metadata": {
        "id": "texv1no9_ed7"
      },
      "source": [
        "### 07 - Peso ideal 2\n",
        "Recebendo um valor de altura, encontre o peso '*ideal*' dessa pessoa, que fornece o IMC encontrado acima"
      ]
    },
    {
      "cell_type": "code",
      "execution_count": 181,
      "metadata": {
        "colab": {
          "base_uri": "https://localhost:8080/"
        },
        "id": "VEBcWuYP_ed8",
        "outputId": "c79b3bb6-28a7-461e-8142-ac3c8d66c113"
      },
      "outputs": [
        {
          "output_type": "stream",
          "name": "stdout",
          "text": [
            "o Peso ideal para uma altura de: 1.7\n",
            "De: 53.46\n",
            "Até: 71.96\n"
          ]
        }
      ],
      "source": [
        "altura = 1.70\n",
        "\n",
        "# Seu código\n",
        "altura_q = altura * altura\n",
        "peso_ideal_inicial = imc_min * altura_q\n",
        "peso_ideal_maximo = imc_max * altura_q\n",
        "\n",
        "print(f'o Peso ideal para uma altura de:', altura)\n",
        "print('De:',round(peso_ideal_inicial,2))\n",
        "print('Até:',round(peso_ideal_maximo,2))"
      ]
    },
    {
      "cell_type": "markdown",
      "metadata": {
        "id": "iy3s8yBK_ed9"
      },
      "source": [
        "### 08 - Peso ideal 3\n",
        "Dada uma lista contendo as alturas de pacientes, crie uma nova lista que contenha o peso '*ideal*' (que fornece o IMC calculado em **Peso ideal 1**) desses pacientes."
      ]
    },
    {
      "cell_type": "code",
      "execution_count": 184,
      "metadata": {
        "colab": {
          "base_uri": "https://localhost:8080/"
        },
        "id": "lJZeP9Qf_ed9",
        "outputId": "1908980c-fe59-49a6-82f2-f58af1ccf200"
      },
      "outputs": [
        {
          "output_type": "stream",
          "name": "stdout",
          "text": [
            "o tamnho da lista é: 4\n",
            "para uma altura de: 1.95\n",
            "de: 70.35\n",
            "até: 94.68\n",
            "para uma altura de: 2.05\n",
            "de: 77.75\n",
            "até: 104.64\n",
            "para uma altura de: 1.7\n",
            "de: 53.46\n",
            "até: 71.96\n",
            "para uma altura de: 1.65\n",
            "de: 50.37\n",
            "até: 67.79\n"
          ]
        }
      ],
      "source": [
        "lista_alturas = [1.95, 2.05, 1.70, 1.65]\n",
        "\n",
        "# verificando o tamanhp da lista\n",
        "\n",
        "print('o tamnho da lista é:',len(lista_alturas))\n",
        "\n",
        "#calculando o peso por item da lista, peso minimo e máximo\n",
        "\n",
        "for i in range(4):\n",
        "  print('para uma altura de:',lista_alturas[i])\n",
        "  lista_alturas_1 = lista_alturas[i]*lista_alturas[i]\n",
        "  peso_ideal_inicial = imc_min * lista_alturas_1\n",
        "  peso_ideal_maximo = imc_max * lista_alturas_1\n",
        "  print('de:',round(peso_ideal_inicial,2))\n",
        "  print('até:',round(peso_ideal_maximo,2))\n",
        "\n"
      ]
    },
    {
      "cell_type": "markdown",
      "metadata": {
        "id": "ihSxvasb_ed-"
      },
      "source": [
        "### 09 - Peso ideal 4\n",
        "Dada uma lista de tuplas - cada elemento da lista é uma tupla contendo altura e peso de um paciente - crie uma nova lista com o IMC desses pacientes."
      ]
    },
    {
      "cell_type": "code",
      "execution_count": 211,
      "metadata": {
        "colab": {
          "base_uri": "https://localhost:8080/"
        },
        "id": "V3PRkHKO_ed-",
        "outputId": "914c301f-bbe9-4117-fc90-1c12fbd02b05"
      },
      "outputs": [
        {
          "output_type": "stream",
          "name": "stdout",
          "text": [
            "imc: [27.777777777777775, 27.548209366391188, 19.188070502453332]\n"
          ]
        }
      ],
      "source": [
        "altura_peso = [(1.80, 90), (1.65, 75), (1.91, 70)]\n",
        "\n",
        "imc = []\n",
        "\n",
        "# calculando o imc por tupla\n",
        "\n",
        "for elem in altura_peso:\n",
        "  temp = elem[1]/elem[0]**2\n",
        "  imc.append(temp)\n",
        "\n",
        "print('imc:', imc)\n"
      ]
    },
    {
      "cell_type": "markdown",
      "metadata": {
        "id": "pYDCS1AR_ed-"
      },
      "source": [
        "### 10 - Peso ideal 5\n",
        "Dada uma lista de **listas** - cada elemento da lista é uma **lista** contendo altura e peso de um paciente, adicione mais um elemento à lista de cada paciente contendo o IMC do paciente. Verifique também se é 'baixo', 'normal' ou 'alto' segundo os padrões da OMS em que normal é entre 18.5 e 24.9.\n",
        "\n",
        "Reflexão: por que no problema anterior temos que criar uma nova lista, e não podemos adicionar os dados de cada indivíduo à tupla?"
      ]
    },
    {
      "cell_type": "code",
      "execution_count": 286,
      "metadata": {
        "colab": {
          "base_uri": "https://localhost:8080/"
        },
        "id": "1dieU3jt_ed_",
        "outputId": "36e0eb65-9843-4902-88e2-64fc46135db0"
      },
      "outputs": [
        {
          "output_type": "stream",
          "name": "stdout",
          "text": [
            "[[1.8, 90, 27.777777777777775], [1.65, 75, 27.548209366391188], [1.91, 70, 19.188070502453332]]\n"
          ]
        }
      ],
      "source": [
        "altura_peso = [[1.80, 90], [1.65, 75], [1.91, 70]]\n",
        "\n",
        "# inserindo o imc na lista com os dados\n",
        "\n",
        "type(altura_peso)\n",
        "altura_peso[0].insert(2,imc[0])\n",
        "altura_peso[1].insert(2,imc[1])\n",
        "altura_peso[2].insert(2,imc[2])\n",
        "\n",
        "print(altura_peso)\n",
        "\n"
      ]
    },
    {
      "cell_type": "code",
      "source": [
        "#verificando se o imc está entre 18.5 e 24.9\n",
        "\n",
        "for i in range (3):\n",
        "  if imc[i] <= 18.5:\n",
        "    print('vc está fora do imc minimo, trate de se alimentar melhor')\n",
        "  elif imc[i] >= 24.9:\n",
        "    print('vc está acima do imc ideal')\n",
        "  else:\n",
        "    print('Parabéns, vc está no imc ideal')"
      ],
      "metadata": {
        "colab": {
          "base_uri": "https://localhost:8080/"
        },
        "id": "zXQWILSnVkA7",
        "outputId": "badc3a99-4f53-417c-e2ff-37fa27741bb3"
      },
      "execution_count": 285,
      "outputs": [
        {
          "output_type": "stream",
          "name": "stdout",
          "text": [
            "vc está acima do imc ideal\n",
            "vc está acima do imc ideal\n",
            "Parabéns, vc está no imc ideal\n"
          ]
        }
      ]
    }
  ],
  "metadata": {
    "kernelspec": {
      "display_name": "Python 3",
      "language": "python",
      "name": "python3"
    },
    "language_info": {
      "codemirror_mode": {
        "name": "ipython",
        "version": 3
      },
      "file_extension": ".py",
      "mimetype": "text/x-python",
      "name": "python",
      "nbconvert_exporter": "python",
      "pygments_lexer": "ipython3",
      "version": "3.8.5"
    },
    "colab": {
      "name": "Mod03Ex01 - Python basico.ipynb",
      "provenance": []
    }
  },
  "nbformat": 4,
  "nbformat_minor": 0
}